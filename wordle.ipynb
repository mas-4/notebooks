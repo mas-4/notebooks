{
 "cells": [
  {
   "cell_type": "code",
   "execution_count": 1,
   "outputs": [],
   "source": [
    "import pandas as pd\n",
    "from wordle import solve\n",
    "import numpy as np\n",
    "%load_ext autoreload\n",
    "%autoreload 2\n"
   ],
   "metadata": {
    "collapsed": false,
    "pycharm": {
     "name": "#%%\n"
    }
   }
  },
  {
   "cell_type": "code",
   "execution_count": 2,
   "metadata": {
    "collapsed": true
   },
   "outputs": [],
   "source": [
    "with open('allowed.txt', 'r') as f:\n",
    "    allowed = f.read().splitlines()\n",
    "with open('answers.txt', 'r') as f:\n",
    "    answers = f.read().splitlines()\n",
    "import pandas as pd"
   ]
  },
  {
   "cell_type": "code",
   "execution_count": 3,
   "outputs": [],
   "source": [
    "def same_letters(word, answer):\n",
    "    same = 0\n",
    "    for letter in word:\n",
    "        if letter in answer:\n",
    "            same += 1\n",
    "    return same"
   ],
   "metadata": {
    "collapsed": false,
    "pycharm": {
     "name": "#%%\n"
    }
   }
  },
  {
   "cell_type": "code",
   "execution_count": 4,
   "outputs": [],
   "source": [
    "def matches(word, answer):\n",
    "    matches = {}\n",
    "    for i in range(len(word)):\n",
    "        if word[i] == answer[i]:\n",
    "            matches[i] = word[i]\n",
    "    return matches"
   ],
   "metadata": {
    "collapsed": false,
    "pycharm": {
     "name": "#%%\n"
    }
   }
  },
  {
   "cell_type": "code",
   "execution_count": 5,
   "outputs": [
    {
     "data": {
      "text/plain": "        word\n0      aahed\n1      aalii\n2      aargh\n3      aarti\n4      abaca\n...      ...\n10652  zuzim\n10653  zygal\n10654  zygon\n10655  zymes\n10656  zymic\n\n[10657 rows x 1 columns]",
      "text/html": "<div>\n<style scoped>\n    .dataframe tbody tr th:only-of-type {\n        vertical-align: middle;\n    }\n\n    .dataframe tbody tr th {\n        vertical-align: top;\n    }\n\n    .dataframe thead th {\n        text-align: right;\n    }\n</style>\n<table border=\"1\" class=\"dataframe\">\n  <thead>\n    <tr style=\"text-align: right;\">\n      <th></th>\n      <th>word</th>\n    </tr>\n  </thead>\n  <tbody>\n    <tr>\n      <th>0</th>\n      <td>aahed</td>\n    </tr>\n    <tr>\n      <th>1</th>\n      <td>aalii</td>\n    </tr>\n    <tr>\n      <th>2</th>\n      <td>aargh</td>\n    </tr>\n    <tr>\n      <th>3</th>\n      <td>aarti</td>\n    </tr>\n    <tr>\n      <th>4</th>\n      <td>abaca</td>\n    </tr>\n    <tr>\n      <th>...</th>\n      <td>...</td>\n    </tr>\n    <tr>\n      <th>10652</th>\n      <td>zuzim</td>\n    </tr>\n    <tr>\n      <th>10653</th>\n      <td>zygal</td>\n    </tr>\n    <tr>\n      <th>10654</th>\n      <td>zygon</td>\n    </tr>\n    <tr>\n      <th>10655</th>\n      <td>zymes</td>\n    </tr>\n    <tr>\n      <th>10656</th>\n      <td>zymic</td>\n    </tr>\n  </tbody>\n</table>\n<p>10657 rows × 1 columns</p>\n</div>"
     },
     "execution_count": 5,
     "metadata": {},
     "output_type": "execute_result"
    }
   ],
   "source": [
    "df = pd.DataFrame(allowed, columns=['word'])\n",
    "df"
   ],
   "metadata": {
    "collapsed": false,
    "pycharm": {
     "name": "#%%\n"
    }
   }
  },
  {
   "cell_type": "code",
   "execution_count": 6,
   "outputs": [],
   "source": [
    "df['same_letters'] = df.word.apply(lambda x: np.mean(tuple(same_letters(x, w) for w in answers)))"
   ],
   "metadata": {
    "collapsed": false,
    "pycharm": {
     "name": "#%%\n"
    }
   }
  },
  {
   "cell_type": "code",
   "execution_count": 7,
   "outputs": [
    {
     "data": {
      "text/plain": "        word  same_letters   matches\n0      aahed      1.565011  0.384449\n1      aalii      1.624190  0.313607\n2      aargh      1.440173  0.355508\n3      aarti      1.714471  0.327430\n4      abaca      1.486825  0.293737\n...      ...           ...       ...\n10652  zuzim      0.635853  0.172786\n10653  zygal      0.997408  0.177970\n10654  zygon      0.853132  0.153348\n10655  zymes      1.047084  0.190497\n10656  zymic      0.796976  0.119222\n\n[10657 rows x 3 columns]",
      "text/html": "<div>\n<style scoped>\n    .dataframe tbody tr th:only-of-type {\n        vertical-align: middle;\n    }\n\n    .dataframe tbody tr th {\n        vertical-align: top;\n    }\n\n    .dataframe thead th {\n        text-align: right;\n    }\n</style>\n<table border=\"1\" class=\"dataframe\">\n  <thead>\n    <tr style=\"text-align: right;\">\n      <th></th>\n      <th>word</th>\n      <th>same_letters</th>\n      <th>matches</th>\n    </tr>\n  </thead>\n  <tbody>\n    <tr>\n      <th>0</th>\n      <td>aahed</td>\n      <td>1.565011</td>\n      <td>0.384449</td>\n    </tr>\n    <tr>\n      <th>1</th>\n      <td>aalii</td>\n      <td>1.624190</td>\n      <td>0.313607</td>\n    </tr>\n    <tr>\n      <th>2</th>\n      <td>aargh</td>\n      <td>1.440173</td>\n      <td>0.355508</td>\n    </tr>\n    <tr>\n      <th>3</th>\n      <td>aarti</td>\n      <td>1.714471</td>\n      <td>0.327430</td>\n    </tr>\n    <tr>\n      <th>4</th>\n      <td>abaca</td>\n      <td>1.486825</td>\n      <td>0.293737</td>\n    </tr>\n    <tr>\n      <th>...</th>\n      <td>...</td>\n      <td>...</td>\n      <td>...</td>\n    </tr>\n    <tr>\n      <th>10652</th>\n      <td>zuzim</td>\n      <td>0.635853</td>\n      <td>0.172786</td>\n    </tr>\n    <tr>\n      <th>10653</th>\n      <td>zygal</td>\n      <td>0.997408</td>\n      <td>0.177970</td>\n    </tr>\n    <tr>\n      <th>10654</th>\n      <td>zygon</td>\n      <td>0.853132</td>\n      <td>0.153348</td>\n    </tr>\n    <tr>\n      <th>10655</th>\n      <td>zymes</td>\n      <td>1.047084</td>\n      <td>0.190497</td>\n    </tr>\n    <tr>\n      <th>10656</th>\n      <td>zymic</td>\n      <td>0.796976</td>\n      <td>0.119222</td>\n    </tr>\n  </tbody>\n</table>\n<p>10657 rows × 3 columns</p>\n</div>"
     },
     "execution_count": 7,
     "metadata": {},
     "output_type": "execute_result"
    }
   ],
   "source": [
    "df['matches'] = df['word'].apply(lambda x: np.mean([len(matches(x, w)) for w in answers]))\n",
    "df"
   ],
   "metadata": {
    "collapsed": false,
    "pycharm": {
     "name": "#%%\n"
    }
   }
  },
  {
   "cell_type": "code",
   "execution_count": 8,
   "outputs": [],
   "source": [
    "top_df = df.sort_values('matches', ascending=False).iloc[:10]"
   ],
   "metadata": {
    "collapsed": false,
    "pycharm": {
     "name": "#%%\n"
    }
   }
  },
  {
   "cell_type": "code",
   "execution_count": 9,
   "outputs": [
    {
     "data": {
      "text/plain": "       word  same_letters   matches\n7913  saree      1.933477  0.680346\n8584  sooey      1.484665  0.678618\n8606  soree      1.831533  0.669546\n7852  saine      1.632829  0.666091\n8530  soare      1.768035  0.660043\n7845  saice      1.588769  0.653132\n8040  sease      1.838877  0.652268\n8038  seare      1.933477  0.644060\n8070  seine      1.696328  0.639309\n8403  slane      1.633261  0.639309",
      "text/html": "<div>\n<style scoped>\n    .dataframe tbody tr th:only-of-type {\n        vertical-align: middle;\n    }\n\n    .dataframe tbody tr th {\n        vertical-align: top;\n    }\n\n    .dataframe thead th {\n        text-align: right;\n    }\n</style>\n<table border=\"1\" class=\"dataframe\">\n  <thead>\n    <tr style=\"text-align: right;\">\n      <th></th>\n      <th>word</th>\n      <th>same_letters</th>\n      <th>matches</th>\n    </tr>\n  </thead>\n  <tbody>\n    <tr>\n      <th>7913</th>\n      <td>saree</td>\n      <td>1.933477</td>\n      <td>0.680346</td>\n    </tr>\n    <tr>\n      <th>8584</th>\n      <td>sooey</td>\n      <td>1.484665</td>\n      <td>0.678618</td>\n    </tr>\n    <tr>\n      <th>8606</th>\n      <td>soree</td>\n      <td>1.831533</td>\n      <td>0.669546</td>\n    </tr>\n    <tr>\n      <th>7852</th>\n      <td>saine</td>\n      <td>1.632829</td>\n      <td>0.666091</td>\n    </tr>\n    <tr>\n      <th>8530</th>\n      <td>soare</td>\n      <td>1.768035</td>\n      <td>0.660043</td>\n    </tr>\n    <tr>\n      <th>7845</th>\n      <td>saice</td>\n      <td>1.588769</td>\n      <td>0.653132</td>\n    </tr>\n    <tr>\n      <th>8040</th>\n      <td>sease</td>\n      <td>1.838877</td>\n      <td>0.652268</td>\n    </tr>\n    <tr>\n      <th>8038</th>\n      <td>seare</td>\n      <td>1.933477</td>\n      <td>0.644060</td>\n    </tr>\n    <tr>\n      <th>8070</th>\n      <td>seine</td>\n      <td>1.696328</td>\n      <td>0.639309</td>\n    </tr>\n    <tr>\n      <th>8403</th>\n      <td>slane</td>\n      <td>1.633261</td>\n      <td>0.639309</td>\n    </tr>\n  </tbody>\n</table>\n</div>"
     },
     "execution_count": 9,
     "metadata": {},
     "output_type": "execute_result"
    }
   ],
   "source": [
    "top_df"
   ],
   "metadata": {
    "collapsed": false,
    "pycharm": {
     "name": "#%%\n"
    }
   }
  },
  {
   "cell_type": "code",
   "execution_count": 10,
   "outputs": [],
   "source": [
    "top_df['smart'] = top_df.word.apply(lambda x: np.mean([solve(x, a) for a in answers]))"
   ],
   "metadata": {
    "collapsed": false,
    "pycharm": {
     "name": "#%%\n"
    }
   }
  },
  {
   "cell_type": "code",
   "execution_count": 11,
   "outputs": [
    {
     "data": {
      "text/plain": "       word  same_letters   matches     smart\n8040  sease      1.838877  0.652268  4.108855\n8584  sooey      1.484665  0.678618  4.082937\n7913  saree      1.933477  0.680346  4.053564\n8038  seare      1.933477  0.644060  4.023758\n8070  seine      1.696328  0.639309  4.013391\n8606  soree      1.831533  0.669546  4.008207\n8530  soare      1.768035  0.660043  3.896328\n7852  saine      1.632829  0.666091  3.877754\n7845  saice      1.588769  0.653132  3.864795\n8403  slane      1.633261  0.639309  3.841037",
      "text/html": "<div>\n<style scoped>\n    .dataframe tbody tr th:only-of-type {\n        vertical-align: middle;\n    }\n\n    .dataframe tbody tr th {\n        vertical-align: top;\n    }\n\n    .dataframe thead th {\n        text-align: right;\n    }\n</style>\n<table border=\"1\" class=\"dataframe\">\n  <thead>\n    <tr style=\"text-align: right;\">\n      <th></th>\n      <th>word</th>\n      <th>same_letters</th>\n      <th>matches</th>\n      <th>smart</th>\n    </tr>\n  </thead>\n  <tbody>\n    <tr>\n      <th>8040</th>\n      <td>sease</td>\n      <td>1.838877</td>\n      <td>0.652268</td>\n      <td>4.108855</td>\n    </tr>\n    <tr>\n      <th>8584</th>\n      <td>sooey</td>\n      <td>1.484665</td>\n      <td>0.678618</td>\n      <td>4.082937</td>\n    </tr>\n    <tr>\n      <th>7913</th>\n      <td>saree</td>\n      <td>1.933477</td>\n      <td>0.680346</td>\n      <td>4.053564</td>\n    </tr>\n    <tr>\n      <th>8038</th>\n      <td>seare</td>\n      <td>1.933477</td>\n      <td>0.644060</td>\n      <td>4.023758</td>\n    </tr>\n    <tr>\n      <th>8070</th>\n      <td>seine</td>\n      <td>1.696328</td>\n      <td>0.639309</td>\n      <td>4.013391</td>\n    </tr>\n    <tr>\n      <th>8606</th>\n      <td>soree</td>\n      <td>1.831533</td>\n      <td>0.669546</td>\n      <td>4.008207</td>\n    </tr>\n    <tr>\n      <th>8530</th>\n      <td>soare</td>\n      <td>1.768035</td>\n      <td>0.660043</td>\n      <td>3.896328</td>\n    </tr>\n    <tr>\n      <th>7852</th>\n      <td>saine</td>\n      <td>1.632829</td>\n      <td>0.666091</td>\n      <td>3.877754</td>\n    </tr>\n    <tr>\n      <th>7845</th>\n      <td>saice</td>\n      <td>1.588769</td>\n      <td>0.653132</td>\n      <td>3.864795</td>\n    </tr>\n    <tr>\n      <th>8403</th>\n      <td>slane</td>\n      <td>1.633261</td>\n      <td>0.639309</td>\n      <td>3.841037</td>\n    </tr>\n  </tbody>\n</table>\n</div>"
     },
     "execution_count": 11,
     "metadata": {},
     "output_type": "execute_result"
    }
   ],
   "source": [
    "top_df.sort_values('smart', ascending=False)"
   ],
   "metadata": {
    "collapsed": false,
    "pycharm": {
     "name": "#%%\n"
    }
   }
  },
  {
   "cell_type": "code",
   "execution_count": 12,
   "outputs": [
    {
     "data": {
      "text/plain": "       word  same_letters   matches     smart\n7426  reate      1.954644  0.525702  4.039309\n411   arete      1.954644  0.495896  4.053564\n5062  leare      1.946436  0.523974  4.053996\n4997  laree      1.946436  0.560259  4.078186\n5073  leear      1.946436  0.380994  4.082937\n7365  raree      2.028078  0.567603  4.177106\n399   areae      2.059179  0.506263  4.178402\n410   arere      2.028078  0.501512  4.178402\n7535  resee      1.996976  0.504968  4.207775\n401   arear      1.964579  0.414687  4.221166",
      "text/html": "<div>\n<style scoped>\n    .dataframe tbody tr th:only-of-type {\n        vertical-align: middle;\n    }\n\n    .dataframe tbody tr th {\n        vertical-align: top;\n    }\n\n    .dataframe thead th {\n        text-align: right;\n    }\n</style>\n<table border=\"1\" class=\"dataframe\">\n  <thead>\n    <tr style=\"text-align: right;\">\n      <th></th>\n      <th>word</th>\n      <th>same_letters</th>\n      <th>matches</th>\n      <th>smart</th>\n    </tr>\n  </thead>\n  <tbody>\n    <tr>\n      <th>7426</th>\n      <td>reate</td>\n      <td>1.954644</td>\n      <td>0.525702</td>\n      <td>4.039309</td>\n    </tr>\n    <tr>\n      <th>411</th>\n      <td>arete</td>\n      <td>1.954644</td>\n      <td>0.495896</td>\n      <td>4.053564</td>\n    </tr>\n    <tr>\n      <th>5062</th>\n      <td>leare</td>\n      <td>1.946436</td>\n      <td>0.523974</td>\n      <td>4.053996</td>\n    </tr>\n    <tr>\n      <th>4997</th>\n      <td>laree</td>\n      <td>1.946436</td>\n      <td>0.560259</td>\n      <td>4.078186</td>\n    </tr>\n    <tr>\n      <th>5073</th>\n      <td>leear</td>\n      <td>1.946436</td>\n      <td>0.380994</td>\n      <td>4.082937</td>\n    </tr>\n    <tr>\n      <th>7365</th>\n      <td>raree</td>\n      <td>2.028078</td>\n      <td>0.567603</td>\n      <td>4.177106</td>\n    </tr>\n    <tr>\n      <th>399</th>\n      <td>areae</td>\n      <td>2.059179</td>\n      <td>0.506263</td>\n      <td>4.178402</td>\n    </tr>\n    <tr>\n      <th>410</th>\n      <td>arere</td>\n      <td>2.028078</td>\n      <td>0.501512</td>\n      <td>4.178402</td>\n    </tr>\n    <tr>\n      <th>7535</th>\n      <td>resee</td>\n      <td>1.996976</td>\n      <td>0.504968</td>\n      <td>4.207775</td>\n    </tr>\n    <tr>\n      <th>401</th>\n      <td>arear</td>\n      <td>1.964579</td>\n      <td>0.414687</td>\n      <td>4.221166</td>\n    </tr>\n  </tbody>\n</table>\n</div>"
     },
     "execution_count": 12,
     "metadata": {},
     "output_type": "execute_result"
    }
   ],
   "source": [
    "top_df2 = df.sort_values('same_letters', ascending=False).iloc[:10]\n",
    "top_df2['smart'] = top_df2.word.apply(lambda x: np.mean([solve(x, a) for a in answers]))\n",
    "top_df2.sort_values('smart', ascending=True)"
   ],
   "metadata": {
    "collapsed": false,
    "pycharm": {
     "name": "#%%\n"
    }
   }
  },
  {
   "cell_type": "code",
   "execution_count": 17,
   "outputs": [
    {
     "name": "stderr",
     "output_type": "stream",
     "text": [
      "/tmp/ipykernel_28925/3027129233.py:1: FutureWarning: The frame.append method is deprecated and will be removed from pandas in a future version. Use pandas.concat instead.\n",
      "  smart_df = top_df.append(top_df2).sort_values('smart', ascending=True)\n"
     ]
    }
   ],
   "source": [
    "smart_df = top_df.append(top_df2).sort_values('smart', ascending=True)"
   ],
   "metadata": {
    "collapsed": false,
    "pycharm": {
     "name": "#%%\n"
    }
   }
  },
  {
   "cell_type": "code",
   "execution_count": 19,
   "outputs": [
    {
     "data": {
      "text/plain": "       word  same_letters   matches     smart      dumb\n8403  slane      1.633261  0.639309  3.841037  4.339957\n7852  saine      1.632829  0.666091  3.877754  4.386177\n7845  saice      1.588769  0.653132  3.864795  4.394384\n8530  soare      1.768035  0.660043  3.896328  4.395248\n411   arete      1.954644  0.495896  4.053564  4.440605\n7426  reate      1.954644  0.525702  4.039309  4.442333\n8038  seare      1.933477  0.644060  4.023758  4.465659\n7913  saree      1.933477  0.680346  4.053564  4.473002\n5062  leare      1.946436  0.523974  4.053996  4.481210\n8606  soree      1.831533  0.669546  4.008207  4.491577\n5073  leear      1.946436  0.380994  4.082937  4.491577\n4997  laree      1.946436  0.560259  4.078186  4.492873\n8070  seine      1.696328  0.639309  4.013391  4.495896\n8584  sooey      1.484665  0.678618  4.082937  4.541253\n7535  resee      1.996976  0.504968  4.207775  4.549892\n401   arear      1.964579  0.414687  4.221166  4.569330\n8040  sease      1.838877  0.652268  4.108855  4.571058\n399   areae      2.059179  0.506263  4.178402  4.580130\n410   arere      2.028078  0.501512  4.178402  4.590929\n7365  raree      2.028078  0.567603  4.177106  4.594816",
      "text/html": "<div>\n<style scoped>\n    .dataframe tbody tr th:only-of-type {\n        vertical-align: middle;\n    }\n\n    .dataframe tbody tr th {\n        vertical-align: top;\n    }\n\n    .dataframe thead th {\n        text-align: right;\n    }\n</style>\n<table border=\"1\" class=\"dataframe\">\n  <thead>\n    <tr style=\"text-align: right;\">\n      <th></th>\n      <th>word</th>\n      <th>same_letters</th>\n      <th>matches</th>\n      <th>smart</th>\n      <th>dumb</th>\n    </tr>\n  </thead>\n  <tbody>\n    <tr>\n      <th>8403</th>\n      <td>slane</td>\n      <td>1.633261</td>\n      <td>0.639309</td>\n      <td>3.841037</td>\n      <td>4.339957</td>\n    </tr>\n    <tr>\n      <th>7852</th>\n      <td>saine</td>\n      <td>1.632829</td>\n      <td>0.666091</td>\n      <td>3.877754</td>\n      <td>4.386177</td>\n    </tr>\n    <tr>\n      <th>7845</th>\n      <td>saice</td>\n      <td>1.588769</td>\n      <td>0.653132</td>\n      <td>3.864795</td>\n      <td>4.394384</td>\n    </tr>\n    <tr>\n      <th>8530</th>\n      <td>soare</td>\n      <td>1.768035</td>\n      <td>0.660043</td>\n      <td>3.896328</td>\n      <td>4.395248</td>\n    </tr>\n    <tr>\n      <th>411</th>\n      <td>arete</td>\n      <td>1.954644</td>\n      <td>0.495896</td>\n      <td>4.053564</td>\n      <td>4.440605</td>\n    </tr>\n    <tr>\n      <th>7426</th>\n      <td>reate</td>\n      <td>1.954644</td>\n      <td>0.525702</td>\n      <td>4.039309</td>\n      <td>4.442333</td>\n    </tr>\n    <tr>\n      <th>8038</th>\n      <td>seare</td>\n      <td>1.933477</td>\n      <td>0.644060</td>\n      <td>4.023758</td>\n      <td>4.465659</td>\n    </tr>\n    <tr>\n      <th>7913</th>\n      <td>saree</td>\n      <td>1.933477</td>\n      <td>0.680346</td>\n      <td>4.053564</td>\n      <td>4.473002</td>\n    </tr>\n    <tr>\n      <th>5062</th>\n      <td>leare</td>\n      <td>1.946436</td>\n      <td>0.523974</td>\n      <td>4.053996</td>\n      <td>4.481210</td>\n    </tr>\n    <tr>\n      <th>8606</th>\n      <td>soree</td>\n      <td>1.831533</td>\n      <td>0.669546</td>\n      <td>4.008207</td>\n      <td>4.491577</td>\n    </tr>\n    <tr>\n      <th>5073</th>\n      <td>leear</td>\n      <td>1.946436</td>\n      <td>0.380994</td>\n      <td>4.082937</td>\n      <td>4.491577</td>\n    </tr>\n    <tr>\n      <th>4997</th>\n      <td>laree</td>\n      <td>1.946436</td>\n      <td>0.560259</td>\n      <td>4.078186</td>\n      <td>4.492873</td>\n    </tr>\n    <tr>\n      <th>8070</th>\n      <td>seine</td>\n      <td>1.696328</td>\n      <td>0.639309</td>\n      <td>4.013391</td>\n      <td>4.495896</td>\n    </tr>\n    <tr>\n      <th>8584</th>\n      <td>sooey</td>\n      <td>1.484665</td>\n      <td>0.678618</td>\n      <td>4.082937</td>\n      <td>4.541253</td>\n    </tr>\n    <tr>\n      <th>7535</th>\n      <td>resee</td>\n      <td>1.996976</td>\n      <td>0.504968</td>\n      <td>4.207775</td>\n      <td>4.549892</td>\n    </tr>\n    <tr>\n      <th>401</th>\n      <td>arear</td>\n      <td>1.964579</td>\n      <td>0.414687</td>\n      <td>4.221166</td>\n      <td>4.569330</td>\n    </tr>\n    <tr>\n      <th>8040</th>\n      <td>sease</td>\n      <td>1.838877</td>\n      <td>0.652268</td>\n      <td>4.108855</td>\n      <td>4.571058</td>\n    </tr>\n    <tr>\n      <th>399</th>\n      <td>areae</td>\n      <td>2.059179</td>\n      <td>0.506263</td>\n      <td>4.178402</td>\n      <td>4.580130</td>\n    </tr>\n    <tr>\n      <th>410</th>\n      <td>arere</td>\n      <td>2.028078</td>\n      <td>0.501512</td>\n      <td>4.178402</td>\n      <td>4.590929</td>\n    </tr>\n    <tr>\n      <th>7365</th>\n      <td>raree</td>\n      <td>2.028078</td>\n      <td>0.567603</td>\n      <td>4.177106</td>\n      <td>4.594816</td>\n    </tr>\n  </tbody>\n</table>\n</div>"
     },
     "execution_count": 19,
     "metadata": {},
     "output_type": "execute_result"
    }
   ],
   "source": [
    "smart_df['dumb'] = smart_df.word.apply(lambda x: np.mean([solve(x, a, True) for a in answers]))\n",
    "smart_df.sort_values('dumb', ascending=True)"
   ],
   "metadata": {
    "collapsed": false,
    "pycharm": {
     "name": "#%%\n"
    }
   }
  },
  {
   "cell_type": "code",
   "execution_count": null,
   "outputs": [],
   "source": [],
   "metadata": {
    "collapsed": false,
    "pycharm": {
     "name": "#%%\n"
    }
   }
  }
 ],
 "metadata": {
  "kernelspec": {
   "display_name": "Python 3",
   "language": "python",
   "name": "python3"
  },
  "language_info": {
   "codemirror_mode": {
    "name": "ipython",
    "version": 2
   },
   "file_extension": ".py",
   "mimetype": "text/x-python",
   "name": "python",
   "nbconvert_exporter": "python",
   "pygments_lexer": "ipython2",
   "version": "2.7.6"
  }
 },
 "nbformat": 4,
 "nbformat_minor": 0
}